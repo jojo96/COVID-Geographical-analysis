{
 "cells": [
  {
   "cell_type": "code",
   "execution_count": 1,
   "metadata": {},
   "outputs": [],
   "source": [
    "# Import libraries\n",
    "#Heat map of COVID Deaths on April 14,2020\n",
    "import pandas as pd\n",
    "import folium\n",
    "from folium.plugins import HeatMap"
   ]
  },
  {
   "cell_type": "code",
   "execution_count": 2,
   "metadata": {},
   "outputs": [],
   "source": [
    "data = (r'C:\\Users\\admin\\Desktop\\Computational Neuroscience\\statistical-gis-boundaries-london\\corona-virus-report\\covid_19_clean_complete.csv')\n",
    "data = pd.read_csv(data)"
   ]
  },
  {
   "cell_type": "code",
   "execution_count": 3,
   "metadata": {},
   "outputs": [],
   "source": [
    "df = []\n",
    "for i in range(data.shape[0]):\n",
    "    if data['Date'][i]=='3/14/20':\n",
    "        df.append(data.iloc[i])"
   ]
  },
  {
   "cell_type": "code",
   "execution_count": 4,
   "metadata": {},
   "outputs": [
    {
     "data": {
      "text/html": [
       "<div>\n",
       "<style scoped>\n",
       "    .dataframe tbody tr th:only-of-type {\n",
       "        vertical-align: middle;\n",
       "    }\n",
       "\n",
       "    .dataframe tbody tr th {\n",
       "        vertical-align: top;\n",
       "    }\n",
       "\n",
       "    .dataframe thead th {\n",
       "        text-align: right;\n",
       "    }\n",
       "</style>\n",
       "<table border=\"1\" class=\"dataframe\">\n",
       "  <thead>\n",
       "    <tr style=\"text-align: right;\">\n",
       "      <th></th>\n",
       "      <th>Province/State</th>\n",
       "      <th>Country/Region</th>\n",
       "      <th>Lat</th>\n",
       "      <th>Long</th>\n",
       "      <th>Date</th>\n",
       "      <th>Confirmed</th>\n",
       "      <th>Deaths</th>\n",
       "      <th>Recovered</th>\n",
       "    </tr>\n",
       "  </thead>\n",
       "  <tbody>\n",
       "    <tr>\n",
       "      <td>13624</td>\n",
       "      <td>NaN</td>\n",
       "      <td>Afghanistan</td>\n",
       "      <td>33.000000</td>\n",
       "      <td>65.000000</td>\n",
       "      <td>3/14/20</td>\n",
       "      <td>11</td>\n",
       "      <td>0</td>\n",
       "      <td>0</td>\n",
       "    </tr>\n",
       "    <tr>\n",
       "      <td>13625</td>\n",
       "      <td>NaN</td>\n",
       "      <td>Albania</td>\n",
       "      <td>41.153300</td>\n",
       "      <td>20.168300</td>\n",
       "      <td>3/14/20</td>\n",
       "      <td>38</td>\n",
       "      <td>1</td>\n",
       "      <td>0</td>\n",
       "    </tr>\n",
       "    <tr>\n",
       "      <td>13626</td>\n",
       "      <td>NaN</td>\n",
       "      <td>Algeria</td>\n",
       "      <td>28.033900</td>\n",
       "      <td>1.659600</td>\n",
       "      <td>3/14/20</td>\n",
       "      <td>37</td>\n",
       "      <td>3</td>\n",
       "      <td>12</td>\n",
       "    </tr>\n",
       "    <tr>\n",
       "      <td>13627</td>\n",
       "      <td>NaN</td>\n",
       "      <td>Andorra</td>\n",
       "      <td>42.506300</td>\n",
       "      <td>1.521800</td>\n",
       "      <td>3/14/20</td>\n",
       "      <td>1</td>\n",
       "      <td>0</td>\n",
       "      <td>1</td>\n",
       "    </tr>\n",
       "    <tr>\n",
       "      <td>13628</td>\n",
       "      <td>NaN</td>\n",
       "      <td>Angola</td>\n",
       "      <td>-11.202700</td>\n",
       "      <td>17.873900</td>\n",
       "      <td>3/14/20</td>\n",
       "      <td>0</td>\n",
       "      <td>0</td>\n",
       "      <td>0</td>\n",
       "    </tr>\n",
       "    <tr>\n",
       "      <td>...</td>\n",
       "      <td>...</td>\n",
       "      <td>...</td>\n",
       "      <td>...</td>\n",
       "      <td>...</td>\n",
       "      <td>...</td>\n",
       "      <td>...</td>\n",
       "      <td>...</td>\n",
       "      <td>...</td>\n",
       "    </tr>\n",
       "    <tr>\n",
       "      <td>13881</td>\n",
       "      <td>Saint Pierre and Miquelon</td>\n",
       "      <td>France</td>\n",
       "      <td>46.885200</td>\n",
       "      <td>-56.315900</td>\n",
       "      <td>3/14/20</td>\n",
       "      <td>0</td>\n",
       "      <td>0</td>\n",
       "      <td>0</td>\n",
       "    </tr>\n",
       "    <tr>\n",
       "      <td>13882</td>\n",
       "      <td>NaN</td>\n",
       "      <td>South Sudan</td>\n",
       "      <td>6.877000</td>\n",
       "      <td>31.307000</td>\n",
       "      <td>3/14/20</td>\n",
       "      <td>0</td>\n",
       "      <td>0</td>\n",
       "      <td>0</td>\n",
       "    </tr>\n",
       "    <tr>\n",
       "      <td>13883</td>\n",
       "      <td>NaN</td>\n",
       "      <td>Western Sahara</td>\n",
       "      <td>24.215500</td>\n",
       "      <td>-12.885800</td>\n",
       "      <td>3/14/20</td>\n",
       "      <td>0</td>\n",
       "      <td>0</td>\n",
       "      <td>0</td>\n",
       "    </tr>\n",
       "    <tr>\n",
       "      <td>13884</td>\n",
       "      <td>NaN</td>\n",
       "      <td>Sao Tome and Principe</td>\n",
       "      <td>0.186360</td>\n",
       "      <td>6.613081</td>\n",
       "      <td>3/14/20</td>\n",
       "      <td>0</td>\n",
       "      <td>0</td>\n",
       "      <td>0</td>\n",
       "    </tr>\n",
       "    <tr>\n",
       "      <td>13885</td>\n",
       "      <td>NaN</td>\n",
       "      <td>Yemen</td>\n",
       "      <td>15.552727</td>\n",
       "      <td>48.516388</td>\n",
       "      <td>3/14/20</td>\n",
       "      <td>0</td>\n",
       "      <td>0</td>\n",
       "      <td>0</td>\n",
       "    </tr>\n",
       "  </tbody>\n",
       "</table>\n",
       "<p>262 rows × 8 columns</p>\n",
       "</div>"
      ],
      "text/plain": [
       "                  Province/State         Country/Region        Lat       Long  \\\n",
       "13624                        NaN            Afghanistan  33.000000  65.000000   \n",
       "13625                        NaN                Albania  41.153300  20.168300   \n",
       "13626                        NaN                Algeria  28.033900   1.659600   \n",
       "13627                        NaN                Andorra  42.506300   1.521800   \n",
       "13628                        NaN                 Angola -11.202700  17.873900   \n",
       "...                          ...                    ...        ...        ...   \n",
       "13881  Saint Pierre and Miquelon                 France  46.885200 -56.315900   \n",
       "13882                        NaN            South Sudan   6.877000  31.307000   \n",
       "13883                        NaN         Western Sahara  24.215500 -12.885800   \n",
       "13884                        NaN  Sao Tome and Principe   0.186360   6.613081   \n",
       "13885                        NaN                  Yemen  15.552727  48.516388   \n",
       "\n",
       "          Date  Confirmed  Deaths  Recovered  \n",
       "13624  3/14/20         11       0          0  \n",
       "13625  3/14/20         38       1          0  \n",
       "13626  3/14/20         37       3         12  \n",
       "13627  3/14/20          1       0          1  \n",
       "13628  3/14/20          0       0          0  \n",
       "...        ...        ...     ...        ...  \n",
       "13881  3/14/20          0       0          0  \n",
       "13882  3/14/20          0       0          0  \n",
       "13883  3/14/20          0       0          0  \n",
       "13884  3/14/20          0       0          0  \n",
       "13885  3/14/20          0       0          0  \n",
       "\n",
       "[262 rows x 8 columns]"
      ]
     },
     "execution_count": 4,
     "metadata": {},
     "output_type": "execute_result"
    }
   ],
   "source": [
    "df\n",
    "df = pd.DataFrame(df)\n",
    "df"
   ]
  },
  {
   "cell_type": "code",
   "execution_count": 5,
   "metadata": {},
   "outputs": [],
   "source": [
    "# mark each station as a point\n",
    "m = folium.Map(location=[24, -12], zoom_start=2)\n",
    "#initialize map"
   ]
  },
  {
   "cell_type": "code",
   "execution_count": 6,
   "metadata": {},
   "outputs": [
    {
     "data": {
      "text/html": [
       "<div style=\"width:100%;\"><div style=\"position:relative;width:100%;height:0;padding-bottom:60%;\"><iframe src=\"about:blank\" style=\"position:absolute;width:100%;height:100%;left:0;top:0;border:none !important;\" data-html=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 onload=\"this.contentDocument.open();this.contentDocument.write(atob(this.getAttribute('data-html')));this.contentDocument.close();\" allowfullscreen webkitallowfullscreen mozallowfullscreen></iframe></div></div>"
      ],
      "text/plain": [
       "<folium.folium.Map at 0x230354a7a88>"
      ]
     },
     "execution_count": 6,
     "metadata": {},
     "output_type": "execute_result"
    }
   ],
   "source": [
    "m"
   ]
  },
  {
   "cell_type": "code",
   "execution_count": 7,
   "metadata": {},
   "outputs": [
    {
     "data": {
      "text/plain": [
       "<folium.plugins.heat_map.HeatMap at 0x230354daec8>"
      ]
     },
     "execution_count": 7,
     "metadata": {},
     "output_type": "execute_result"
    }
   ],
   "source": [
    "#create HeatMap\n",
    "HeatMap(data=df[['Lat', 'Long', 'Deaths']], radius=8, max_zoom=13).add_to(m)"
   ]
  },
  {
   "cell_type": "code",
   "execution_count": 8,
   "metadata": {},
   "outputs": [
    {
     "data": {
      "text/html": [
       "<div style=\"width:100%;\"><div style=\"position:relative;width:100%;height:0;padding-bottom:60%;\"><iframe src=\"about:blank\" style=\"position:absolute;width:100%;height:100%;left:0;top:0;border:none !important;\" data-html=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 onload=\"this.contentDocument.open();this.contentDocument.write(atob(this.getAttribute('data-html')));this.contentDocument.close();\" allowfullscreen webkitallowfullscreen mozallowfullscreen></iframe></div></div>"
      ],
      "text/plain": [
       "<folium.folium.Map at 0x230354a7a88>"
      ]
     },
     "execution_count": 8,
     "metadata": {},
     "output_type": "execute_result"
    }
   ],
   "source": [
    "m"
   ]
  }
 ],
 "metadata": {
  "kernelspec": {
   "display_name": "Python 3",
   "language": "python",
   "name": "python3"
  },
  "language_info": {
   "codemirror_mode": {
    "name": "ipython",
    "version": 3
   },
   "file_extension": ".py",
   "mimetype": "text/x-python",
   "name": "python",
   "nbconvert_exporter": "python",
   "pygments_lexer": "ipython3",
   "version": "3.7.4"
  }
 },
 "nbformat": 4,
 "nbformat_minor": 2
}
