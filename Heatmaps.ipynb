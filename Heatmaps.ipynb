{
 "cells": [
  {
   "cell_type": "code",
   "execution_count": 5,
   "metadata": {},
   "outputs": [],
   "source": [
    "# Import libraries\n",
    "#this file shows heatmaps over time from 22nd January to 14th April 2020\n",
    "#One heatmap shows the progress of deaths and another hope of recovery\n",
    "import pandas as pd\n",
    "import folium\n",
    "from folium.plugins import HeatMap\n",
    "#useful resource: https://towardsdatascience.com/data-101s-spatial-visualizations-and-analysis-in-python-with-folium-39730da2adf"
   ]
  },
  {
   "cell_type": "code",
   "execution_count": 2,
   "metadata": {},
   "outputs": [],
   "source": [
    "mm = (r'C:\\Users\\admin\\Desktop\\Computational Neuroscience\\statistical-gis-boundaries-london\\corona-virus-report\\covid_19_clean_complete.csv')\n",
    "mm = pd.read_csv(mm)"
   ]
  },
  {
   "cell_type": "code",
   "execution_count": 14,
   "metadata": {},
   "outputs": [],
   "source": [
    "def getmap(date,da):\n",
    "    df=[]\n",
    "    for i in range(mm.shape[0]):\n",
    "        if mm['Date'][i]==date:\n",
    "            df.append(mm.iloc[i])\n",
    "    df = pd.DataFrame(df)\n",
    "    df\n",
    "    m = folium.Map(location=[24, -12], zoom_start=2)\n",
    "    HeatMap(data=df[['Lat', 'Long', 'Deaths']], radius=8, max_zoom=13).add_to(m)\n",
    "    m.save(r'C:\\Users\\admin\\Desktop\\Computational Neuroscience\\statistical-gis-boundaries-london\\heats\\mm'+str(da)+'.html')\n",
    "    #this html file can be converted into jpeg using the script provided in the repository"
   ]
  },
  {
   "cell_type": "code",
   "execution_count": 18,
   "metadata": {},
   "outputs": [],
   "source": [
    "index = 10\n",
    "dates= ['1/22/20', '1/23/20', '1/24/20', '1/25/20', '1/26/20', '1/27/20','1/28/20','1/29/20', '1/30/20', '1/31/20', '2/1/20', '2/2/20',\n",
    "       '2/3/20', '2/4/20', '2/5/20', '2/6/20', '2/7/20', '2/8/20',\n",
    "       '2/9/20', '2/10/20', '2/11/20', '2/12/20', '2/13/20', '2/14/20',\n",
    "       '2/15/20', '2/16/20', '2/17/20', '2/18/20', '2/19/20', '2/20/20',\n",
    "       '2/21/20', '2/22/20', '2/23/20', '2/24/20', '2/25/20', '2/26/20',\n",
    "       '2/27/20', '2/28/20', '2/29/20', '3/1/20', '3/2/20', '3/3/20',\n",
    "       '3/4/20', '3/5/20', '3/6/20', '3/7/20', '3/8/20', '3/9/20',\n",
    "       '3/10/20', '3/11/20', '3/12/20', '3/13/20', '3/14/20', '3/15/20',\n",
    "       '3/16/20', '3/17/20', '3/18/20', '3/19/20', '3/20/20', '3/21/20',\n",
    "       '3/22/20', '3/23/20', '3/24/20', '3/25/20', '3/26/20', '3/27/20',\n",
    "       '3/28/20', '3/29/20', '3/30/20', '3/31/20', '4/1/20', '4/2/20',\n",
    "       '4/3/20', '4/4/20', '4/5/20', '4/6/20', '4/7/20', '4/8/20',\n",
    "       '4/9/20', '4/10/20', '4/11/20', '4/12/20', '4/13/20', '4/14/20']\n",
    "for i in range(len(dates)):\n",
    "    getmap(dates[i],index)\n",
    "    index += 1"
   ]
  },
  {
   "cell_type": "code",
   "execution_count": null,
   "metadata": {},
   "outputs": [],
   "source": [
    "#recovery heatmaps\n",
    "def getmap2(date,da):\n",
    "    df=[]\n",
    "    for i in range(mm.shape[0]):\n",
    "        if mm['Date'][i]==date:\n",
    "            df.append(mm.iloc[i])\n",
    "    df = pd.DataFrame(df)\n",
    "    df\n",
    "    m = folium.Map(location=[24, -12], zoom_start=2)\n",
    "    HeatMap(data=df[['Lat', 'Long', 'Recovered']], gradient={0.2: 'blue', 0.4: 'lime', 0.6: 'orange', 1: 'red'}, min_opacity=0.5, max_opacity=0.8,radius=8, max_zoom=13).add_to(m)\n",
    "    m.save(r'C:\\Users\\admin\\Desktop\\Computational Neuroscience\\statistical-gis-boundaries-london\\heatsc\\mm'+str(da)+'.html')\n",
    "        #this html file can be converted into jpeg using the script provided in the repository"
   ]
  },
  {
   "cell_type": "code",
   "execution_count": null,
   "metadata": {},
   "outputs": [],
   "source": [
    "index = 10\n",
    "dates= ['1/22/20', '1/23/20', '1/24/20', '1/25/20', '1/26/20', '1/27/20','1/28/20','1/29/20', '1/30/20', '1/31/20', '2/1/20', '2/2/20',\n",
    "       '2/3/20', '2/4/20', '2/5/20', '2/6/20', '2/7/20', '2/8/20',\n",
    "       '2/9/20', '2/10/20', '2/11/20', '2/12/20', '2/13/20', '2/14/20',\n",
    "       '2/15/20', '2/16/20', '2/17/20', '2/18/20', '2/19/20', '2/20/20',\n",
    "       '2/21/20', '2/22/20', '2/23/20', '2/24/20', '2/25/20', '2/26/20',\n",
    "       '2/27/20', '2/28/20', '2/29/20', '3/1/20', '3/2/20', '3/3/20',\n",
    "       '3/4/20', '3/5/20', '3/6/20', '3/7/20', '3/8/20', '3/9/20',\n",
    "       '3/10/20', '3/11/20', '3/12/20', '3/13/20', '3/14/20', '3/15/20',\n",
    "       '3/16/20', '3/17/20', '3/18/20', '3/19/20', '3/20/20', '3/21/20',\n",
    "       '3/22/20', '3/23/20', '3/24/20', '3/25/20', '3/26/20', '3/27/20',\n",
    "       '3/28/20', '3/29/20', '3/30/20', '3/31/20', '4/1/20', '4/2/20',\n",
    "       '4/3/20', '4/4/20', '4/5/20', '4/6/20', '4/7/20', '4/8/20',\n",
    "       '4/9/20', '4/10/20', '4/11/20', '4/12/20', '4/13/20', '4/14/20']\n",
    "for i in range(len(dates)):\n",
    "    getmap2(dates[i],index)\n",
    "    index += 1"
   ]
  },
  {
   "cell_type": "code",
   "execution_count": 3,
   "metadata": {},
   "outputs": [
    {
     "data": {
      "text/html": [
       "<video src=\"C:\\Users\\admin\\Desktop\\Computational Neuroscience\\project2.avi\" controls  >\n",
       "      Your browser does not support the <code>video</code> element.\n",
       "    </video>"
      ],
      "text/plain": [
       "<IPython.core.display.Video object>"
      ]
     },
     "execution_count": 3,
     "metadata": {},
     "output_type": "execute_result"
    }
   ],
   "source": [
    "from IPython.display import Video\n",
    "#how death heatmaps look over time\n",
    "\n",
    "Video(\"deaths.mp4\")"
   ]
  },
  {
   "cell_type": "code",
   "execution_count": null,
   "metadata": {},
   "outputs": [],
   "source": [
    "from IPython.display import Video\n",
    "\n",
    "Video(\"recovery.mp4\")"
   ]
  }
 ],
 "metadata": {
  "kernelspec": {
   "display_name": "Python 3",
   "language": "python",
   "name": "python3"
  },
  "language_info": {
   "codemirror_mode": {
    "name": "ipython",
    "version": 3
   },
   "file_extension": ".py",
   "mimetype": "text/x-python",
   "name": "python",
   "nbconvert_exporter": "python",
   "pygments_lexer": "ipython3",
   "version": "3.7.4"
  }
 },
 "nbformat": 4,
 "nbformat_minor": 2
}
