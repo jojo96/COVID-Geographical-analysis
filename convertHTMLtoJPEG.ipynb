{
 "cells": [
  {
   "cell_type": "code",
   "execution_count": 2,
   "metadata": {},
   "outputs": [],
   "source": [
    "#https://stackoverflow.com/questions/38568804/python-open-html-file-take-screenshot-crop-and-save-as-image\n",
    "from selenium import webdriver \n",
    "driver = webdriver.Chrome(r\"C:\\Users\\admin\\Desktop\\Computational Neuroscience\\statistical-gis-boundaries-london/chromedriver.exe\")"
   ]
  },
  {
   "cell_type": "code",
   "execution_count": 3,
   "metadata": {},
   "outputs": [],
   "source": [
    "#path to the html file(which is to be converted to jpeg or png) \n",
    "temp_name = r'C:\\Users\\admin\\Desktop\\Computational Neuroscience\\statistical-gis-boundaries-london\\my_map.html'"
   ]
  },
  {
   "cell_type": "code",
   "execution_count": 4,
   "metadata": {},
   "outputs": [],
   "source": [
    "options = webdriver.ChromeOptions()\n",
    "options.add_argument('headless')"
   ]
  },
  {
   "cell_type": "code",
   "execution_count": 6,
   "metadata": {},
   "outputs": [
    {
     "name": "stderr",
     "output_type": "stream",
     "text": [
      "C:\\Users\\admin\\Anaconda3\\lib\\site-packages\\ipykernel_launcher.py:1: DeprecationWarning: use options instead of chrome_options\n",
      "  \"\"\"Entry point for launching an IPython kernel.\n"
     ]
    }
   ],
   "source": [
    "#download chromedriver.exe from https://chromedriver.chromium.org/downloads; check if the version of chromedriver\n",
    "#matches the chrome browser version or is at least close\n",
    "driver = webdriver.Chrome(executable_path=r\"C:\\Users\\admin\\Desktop\\Computational Neuroscience\\statistical-gis-boundaries-london/chromedriver.exe\", chrome_options=options)"
   ]
  },
  {
   "cell_type": "code",
   "execution_count": 7,
   "metadata": {},
   "outputs": [],
   "source": [
    "driver.get(temp_name)"
   ]
  },
  {
   "cell_type": "code",
   "execution_count": 9,
   "metadata": {},
   "outputs": [],
   "source": [
    "#path where you want to save the file\n",
    "save_name = r'C:\\Users\\admin\\Desktop\\Computational Neuroscience\\statistical-gis-boundaries-london\\my_map.html\\1' + '.png' "
   ]
  },
  {
   "cell_type": "code",
   "execution_count": 15,
   "metadata": {},
   "outputs": [
    {
     "data": {
      "text/plain": [
       "True"
      ]
     },
     "execution_count": 15,
     "metadata": {},
     "output_type": "execute_result"
    }
   ],
   "source": [
    "driver.save_screenshot(r'C:\\Users\\admin\\Desktop\\Computational Neuroscience\\statistical-gis-boundaries-london\\1.png')\n",
    "    "
   ]
  },
  {
   "cell_type": "code",
   "execution_count": 30,
   "metadata": {},
   "outputs": [],
   "source": [
    "# this block of code converts all the html files in a folder to jpegs\n",
    "import os\n",
    "import glob\n",
    "ind = 10\n",
    "for file in glob.glob(r\"C:\\Users\\admin\\Desktop\\Computational Neuroscience\\statistical-gis-boundaries-london\\heatsc/*.html\"):\n",
    "    #print(file)\n",
    "    driver.get(file)\n",
    "    save_name = r'C:\\Users\\admin\\Desktop\\Computational Neuroscience\\statistical-gis-boundaries-london\\heatsimc\\\\' +str(ind)+ '.png' \n",
    "    driver.save_screenshot(save_name)\n",
    "    ind += 1\n"
   ]
  }
 ],
 "metadata": {
  "kernelspec": {
   "display_name": "Python 3",
   "language": "python",
   "name": "python3"
  },
  "language_info": {
   "codemirror_mode": {
    "name": "ipython",
    "version": 3
   },
   "file_extension": ".py",
   "mimetype": "text/x-python",
   "name": "python",
   "nbconvert_exporter": "python",
   "pygments_lexer": "ipython3",
   "version": "3.7.4"
  }
 },
 "nbformat": 4,
 "nbformat_minor": 2
}
